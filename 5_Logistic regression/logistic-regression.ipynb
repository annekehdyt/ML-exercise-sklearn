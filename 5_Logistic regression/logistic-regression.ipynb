{
 "cells": [
  {
   "cell_type": "markdown",
   "metadata": {},
   "source": [
    "# Logistic Regression\n",
    "Linear Model\n",
    "\n",
    "## Statlog (German Credit Data) Data Set\n",
    "\n",
    "The url to this datasets can be found by the following link :\n",
    "https://archive.ics.uci.edu/ml/datasets/statlog+(german+credit+data)\n",
    "\n",
    "However, this data contains categorical, numerical and binary as well. In this case, we need a datasets with numerical data. MIT Data Mining Course provided the statlog Dataset with converted data from categorical into binary. The excel sheet dataset can be found in the following link :\n",
    "https://ocw.mit.edu/courses/sloan-school-of-management/15-062-data-mining-spring-2003/assignments/\n",
    "\n",
    "Number of instances : 1000\n",
    "Number of Features : 30\n",
    "\n",
    "Feature information :\n",
    "1. CHK_ACCOUNT : Checking account status ({0:<0DM}, {1:0<=X<200DM}, {2:=> 200DM}, {3:No checking account})\n",
    "2. DURATION : Duration of credit in months\n",
    "3. HISTORY : Credit history\n",
    "4. NEW_CAR : Purpose of credit\n",
    "5. USED_CAR : Purpose of credit\n",
    "6. FURNITURE : Purpose of credit\n",
    "7. TV : Purpose of credit\n",
    "8. EDUCATION : Purpose of credit\n",
    "9. RETRAIN : Purpose of credit\n",
    "10. AMT : Credit amount\n",
    "11. SAV_ACCT : Average balance in savings account ({0:<100DM}, {1:100<=X<500DM}, {2:500<=X<1000DM}, {3:>=1000DM}, {4:Unknown/no savings acc})\n",
    "12. EMPLOYMENT : Present employment since ({0:unemployed}, {1:<1year}, {2:1<=X<4years}, {3:4<=X<7years}, {4:>= 7years})\n",
    "13. INSTALL_RATE : Installment rate as % of disposable income numerical\n",
    "14. MALE_DIV : Applicant is male and divorced\n",
    "15. MALE_SINGLE : Applicant is male and single\n",
    "16. MALE_MAR_WID : Applicant is male and married or a widower\n",
    "17. CO-APPLICANT : APplicant has a co-applicant\n",
    "18. GUARANTOR : Applicant has a guarantor\n",
    "19. PRESENT_RESIDENT : Present resident since - years ({0:<=1year}, {1:<=2years}, {2:<=3years}, {3:>4years})\n",
    "20. REAL_ESTATE : Applicant owns real estate\n",
    "21. PROP_UNKN_NONE : Applicant owns no property\n",
    "22. AGE : Age in years\n",
    "23. OTHER_INSTALL : Applicant has other installment plan credit\n",
    "24. RENT : Applicant rents\n",
    "25. OWN_RES : Applicant owns residence\n",
    "26. NUM_CREDITS : number of existing credits at this bank\n",
    "27. JOB : Nature of job ({0:Unemployed}, {1:unskilled-resident}, {2:skilled employee}, {3: management / self employement})\n",
    "28. NUM_DEPENDENTS : Number of people for whom liable to provide maintenance\n",
    "29. TELEPHONE : Applicant has phone in his or her name\n",
    "30. FOREIGN : Foreign worker"
   ]
  },
  {
   "cell_type": "code",
   "execution_count": 1,
   "metadata": {
    "collapsed": true
   },
   "outputs": [],
   "source": [
    "#Library\n",
    "\n",
    "import numpy as np\n",
    "import pandas as pd\n",
    "from sklearn.preprocessing import binarize\n",
    "from sklearn.model_selection import train_test_split\n",
    "from sklearn.linear_model import LogisticRegression\n",
    "from sklearn.model_selection import KFold\n",
    "from sklearn.model_selection import cross_val_score\n",
    "from sklearn.metrics import accuracy_score\n",
    "from matplotlib import pyplot as plt\n",
    "from pandas.plotting import scatter_matrix\n",
    "from sklearn.utils.extmath import safe_sparse_dot"
   ]
  },
  {
   "cell_type": "markdown",
   "metadata": {},
   "source": [
    "## Loading and Pre-processing the data"
   ]
  },
  {
   "cell_type": "code",
   "execution_count": 33,
   "metadata": {},
   "outputs": [
    {
     "data": {
      "text/plain": [
       "(1000, 31)"
      ]
     },
     "execution_count": 33,
     "metadata": {},
     "output_type": "execute_result"
    }
   ],
   "source": [
    "url = \"data-credit-german.csv\"\n",
    "names = ['CHK_ACCT', 'DURATION', 'CRED_HIST', 'NEW_CAR', 'USER_CAR', 'FURN', 'TV', 'EDU', 'RETRAIN', 'AMT', 'SAV_ACCT', 'EMPLOYM', 'INSTALL_RATE', 'MALE_DIV', 'MALE_SING', 'MALE_MAR_WID', 'CO-APP','GUARANTOR', 'PRES_RESIDENT', 'REAL_ESTATE', 'PROP_UNKN_NONE','AGE','OTHER_INSTALL', 'RENT', 'OWN_RES', 'NUM_CRED','JOB','NUM_DEPENDEN', 'TEL', 'FOREIGN', 'RESPONSE']\n",
    "\n",
    "cred_df = pd.read_csv(url, names=names)\n",
    "cred_df.shape"
   ]
  },
  {
   "cell_type": "code",
   "execution_count": 3,
   "metadata": {
    "collapsed": true
   },
   "outputs": [],
   "source": [
    "X_train, X_test, y_train, y_test = train_test_split(cred_df.iloc[:, :30], cred_df.iloc[:, 30], test_size=0.30)"
   ]
  },
  {
   "cell_type": "markdown",
   "metadata": {},
   "source": [
    "## Train the data"
   ]
  },
  {
   "cell_type": "code",
   "execution_count": 4,
   "metadata": {},
   "outputs": [
    {
     "data": {
      "text/plain": [
       "LogisticRegression(C=1.0, class_weight=None, dual=False, fit_intercept=True,\n",
       "          intercept_scaling=1, max_iter=100, multi_class='ovr', n_jobs=1,\n",
       "          penalty='l2', random_state=None, solver='liblinear', tol=0.0001,\n",
       "          verbose=0, warm_start=False)"
      ]
     },
     "execution_count": 4,
     "metadata": {},
     "output_type": "execute_result"
    }
   ],
   "source": [
    "clf = LogisticRegression()\n",
    "clf.fit(X_train, y_train)"
   ]
  },
  {
   "cell_type": "code",
   "execution_count": 5,
   "metadata": {
    "collapsed": true
   },
   "outputs": [],
   "source": [
    "y_pred = clf.predict(X_test)"
   ]
  },
  {
   "cell_type": "code",
   "execution_count": 6,
   "metadata": {},
   "outputs": [
    {
     "data": {
      "text/plain": [
       "0.76333333333333331"
      ]
     },
     "execution_count": 6,
     "metadata": {},
     "output_type": "execute_result"
    }
   ],
   "source": [
    "accuracy_score(y_pred, y_test)"
   ]
  },
  {
   "cell_type": "code",
   "execution_count": 7,
   "metadata": {},
   "outputs": [
    {
     "data": {
      "text/plain": [
       "(300, 2)"
      ]
     },
     "execution_count": 7,
     "metadata": {},
     "output_type": "execute_result"
    }
   ],
   "source": [
    "y_pred_proba = clf.predict_proba(X_test)\n",
    "y_pred_proba.shape"
   ]
  },
  {
   "cell_type": "code",
   "execution_count": 8,
   "metadata": {},
   "outputs": [
    {
     "data": {
      "text/plain": [
       "(300, 2)"
      ]
     },
     "execution_count": 8,
     "metadata": {},
     "output_type": "execute_result"
    }
   ],
   "source": [
    "y_pred_log_proba = clf.predict_log_proba(X_test)\n",
    "y_pred_log_proba.shape"
   ]
  },
  {
   "cell_type": "markdown",
   "metadata": {},
   "source": [
    "## Calculate the Evidence\n",
    "\n",
    "(1) Given two sets of $P$ and $N$, set of attribute value contribute to positive evidence and set of attribute value contribute to negative evidence, respectively. <br> <br>\n",
    "$ \\mathcal{P}_x = \\{a_i|w_ia_i>0\\} $ <br> \n",
    "$ \\mathcal{N}_x = \\{a_i|w_ia_i<0\\} $ <br><br>\n",
    "(2) Total evidence of each instance / Objects can be calculated as follow : <br><br>\n",
    "$ E^{+1}(x) = \\sum_{a_i\\in\\mathcal{P}_x}w_ia_i$<br>\n",
    "$ E^{-1}(x) = - \\sum_{a_i\\in\\mathcal{N}_x}w_ia_i$"
   ]
  },
  {
   "cell_type": "code",
   "execution_count": 9,
   "metadata": {},
   "outputs": [
    {
     "data": {
      "text/plain": [
       "(1, 30)"
      ]
     },
     "execution_count": 9,
     "metadata": {},
     "output_type": "execute_result"
    }
   ],
   "source": [
    "# array, shape (1, n_features) or (n_classes, n_features)\n",
    "# Coefficient of the features in the decision function.\n",
    "\n",
    "clf.coef_.shape"
   ]
  },
  {
   "cell_type": "code",
   "execution_count": 11,
   "metadata": {},
   "outputs": [
    {
     "data": {
      "text/plain": [
       "array([ 0.21206387])"
      ]
     },
     "execution_count": 11,
     "metadata": {},
     "output_type": "execute_result"
    }
   ],
   "source": [
    "clf.intercept_"
   ]
  },
  {
   "cell_type": "code",
   "execution_count": 13,
   "metadata": {},
   "outputs": [],
   "source": [
    "'''Copy the data X and coefficient w_i'''\n",
    "X = np.copy(X_test)\n",
    "coef_ = np.copy(clf.coef_)\n",
    "n_samples, n_features = X.shape\n",
    "\n",
    "'''Initialize X_ev : x_i * w_i'''\n",
    "X_ev = np.zeros((n_samples, n_features))"
   ]
  },
  {
   "cell_type": "code",
   "execution_count": 37,
   "metadata": {},
   "outputs": [],
   "source": [
    "'''Get evidence'''\n",
    "'''Calculate the w_ia_i'''\n",
    "for idx in range(n_samples):\n",
    "    X_ev[idx, :] = X[idx,:] * coef_\n",
    "\n",
    "'''Generate the sets of P and N'''\n",
    "X_pos_ev = X_ev * (X_ev > 0)\n",
    "X_neg_ev = X_ev * (X_ev < 0)\n",
    "\n",
    "'''Sum each the set P and N'''\n",
    "pos_ev = np.sum(X_pos_ev, axis=1)\n",
    "neg_ev = -np.sum(X_neg_ev, axis=1)\n"
   ]
  },
  {
   "cell_type": "markdown",
   "metadata": {},
   "source": [
    "### The most positive object with respect to the probabilities."
   ]
  },
  {
   "cell_type": "code",
   "execution_count": 15,
   "metadata": {
    "collapsed": true
   },
   "outputs": [],
   "source": [
    "most_pos_obj_idx = np.argmax(y_pred_proba[:,1])"
   ]
  },
  {
   "cell_type": "code",
   "execution_count": 30,
   "metadata": {
    "scrolled": false
   },
   "outputs": [
    {
     "name": "stdout",
     "output_type": "stream",
     "text": [
      "Index of the object :  23\n",
      "CHK_ACCT             3\n",
      "DURATION             6\n",
      "CRED_HIST            4\n",
      "NEW_CAR              0\n",
      "USER_CAR             0\n",
      "FURN                 0\n",
      "TV                   1\n",
      "EDU                  0\n",
      "RETRAIN              0\n",
      "AMT               1898\n",
      "SAV_ACCT             4\n",
      "EMPLOYM              2\n",
      "INSTALL_RATE         1\n",
      "MALE_DIV             0\n",
      "MALE_SING            1\n",
      "MALE_MAR_WID         0\n",
      "CO-APP               0\n",
      "GUARANTOR            0\n",
      "PRES_RESIDENT        2\n",
      "REAL_ESTATE          1\n",
      "PROP_UNKN_NONE       0\n",
      "AGE                 34\n",
      "OTHER_INSTALL        0\n",
      "RENT                 0\n",
      "OWN_RES              1\n",
      "NUM_CRED             2\n",
      "JOB                  1\n",
      "NUM_DEPENDEN         2\n",
      "TEL                  0\n",
      "FOREIGN              0\n",
      "Name: 159, dtype: int64\n",
      "Class :  1\n",
      "Predict Class :  1\n",
      "a) Total  positive log-evidence :  1.88657684149\n",
      "b) Total negative log-evidence :  0.349474091287\n",
      "c) Probability distribution [ 0.00453904  0.99546096]\n",
      "6.59674827154\n",
      "d) Top 3 features values that contribute most to the positive evidence\n",
      "\t CRED_HIST \t Value :  4 \t Evidence Value :  1.7912470602\n",
      "\t CHK_ACCT \t Value :  3 \t Evidence Value :  1.57866999803\n",
      "\t SAV_ACCT \t Value :  4 \t Evidence Value :  1.24740523307\n",
      "e) Top 3 features values that contribute most to the negative evidence\n",
      "\t INSTALL_RATE \t Value :  1 \t Evidence Value :  -0.350261374726\n",
      "\t NUM_DEPENDEN \t Value :  2 \t Evidence Value :  -0.342986657409\n",
      "\t DURATION \t Value :  6 \t Evidence Value :  -0.237537784324\n",
      "[ 1.79124706  1.57867     1.24740523  0.51550071  0.48895558  0.35552873\n",
      "  0.24699361  0.23136321  0.14108414  0.         -0.          0.         -0.\n",
      " -0.         -0.          0.          0.         -0.          0.          0.\n",
      " -0.         -0.          0.         -0.05768842 -0.10770486 -0.15683471\n",
      " -0.16530763 -0.23753778 -0.34298666 -0.35026137]\n",
      "[-0.35026137 -0.34298666 -0.23753778 -0.16530763 -0.15683471 -0.10770486\n",
      " -0.05768842  0.         -0.         -0.          0.          0.         -0.\n",
      "  0.          0.         -0.         -0.         -0.          0.         -0.\n",
      "  0.          0.14108414  0.23136321  0.24699361  0.35552873  0.48895558\n",
      "  0.51550071  1.24740523  1.57867     1.79124706]\n"
     ]
    }
   ],
   "source": [
    "print('Index of the object : ', most_pos_obj_idx)\n",
    "print(X_test.iloc[most_pos_obj_idx, :].T)\n",
    "print('Class : ', y_test.iloc[most_pos_obj_idx])\n",
    "print('Predict Class : ', y_pred[most_pos_obj_idx])\n",
    "print('a) Total  positive log-evidence : ', np.log(pos_ev[most_pos_obj_idx]))\n",
    "print('b) Total negative log-evidence : ', np.log(neg_ev[most_pos_obj_idx]))\n",
    "print('c) Probability distribution', y_pred_proba[most_pos_obj_idx])\n",
    "\n",
    "print(pos_ev[most_pos_obj_idx])\n",
    "feature_pos = X_ev[most_pos_obj_idx,:]\n",
    "pos_list = np.argsort(feature_pos)[::-1]\n",
    "feature_neg = X_ev[most_pos_obj_idx,:]\n",
    "neg_list = np.argsort(feature_neg)\n",
    "#feature_pos = np.multiply(X[most_pos_obj_idx, :], pos_X.T)\n",
    "#pos_list = np.argsort(feature_pos)[::-1]\n",
    "#feature_neg = np.multiply(1-X[most_pos_obj_idx, :], neg_X.T)\n",
    "#neg_list = np.argsort(feature_neg)\n",
    "\n",
    "print('d) Top 3 features values that contribute most to the positive evidence')\n",
    "for i in range(0,3):\n",
    "#    print('\\t',names[pos_list[i]], '\\t Evidence Value : ', np.sort(feature_pos)[::-1][i])\n",
    "     print('\\t',names[pos_list[i]], '\\t Value : ', X_test.iloc[most_pos_obj_idx, pos_list[i]], '\\t Evidence Value : ', np.sort(feature_pos)[::-1][i])\n",
    "    \n",
    "print('e) Top 3 features values that contribute most to the negative evidence')\n",
    "for j in range(0,3):\n",
    "#    print('\\t',names[neg_list[j]], '\\t Evidence Value : ', np.sort(feature_neg)[j])\n",
    "     print('\\t',names[neg_list[j]], '\\t Value : ', X_test.iloc[most_pos_obj_idx, neg_list[j]], '\\t Evidence Value : ', np.sort(feature_neg)[j])\n",
    "\n",
    "print(np.sort(feature_pos)[::-1])     \n",
    "print(np.sort(feature_neg))\n",
    "#print(pos_X)"
   ]
  },
  {
   "cell_type": "markdown",
   "metadata": {},
   "source": [
    "### The most negative object with respect to the probabilities."
   ]
  },
  {
   "cell_type": "code",
   "execution_count": 17,
   "metadata": {
    "collapsed": true
   },
   "outputs": [],
   "source": [
    "most_neg_obj_idx = np.argmin(y_pred_proba[:,1])"
   ]
  },
  {
   "cell_type": "code",
   "execution_count": 18,
   "metadata": {},
   "outputs": [
    {
     "name": "stdout",
     "output_type": "stream",
     "text": [
      "Index of the object :  294\n",
      "CHK_ACCT             1\n",
      "DURATION            60\n",
      "CRED_HIST            2\n",
      "NEW_CAR              0\n",
      "USER_CAR             0\n",
      "FURN                 0\n",
      "TV                   0\n",
      "EDU                  1\n",
      "RETRAIN              0\n",
      "AMT               6288\n",
      "SAV_ACCT             0\n",
      "EMPLOYM              2\n",
      "INSTALL_RATE         4\n",
      "MALE_DIV             0\n",
      "MALE_SING            1\n",
      "MALE_MAR_WID         0\n",
      "CO-APP               0\n",
      "GUARANTOR            0\n",
      "PRES_RESIDENT        4\n",
      "REAL_ESTATE          0\n",
      "PROP_UNKN_NONE       1\n",
      "AGE                 42\n",
      "OTHER_INSTALL        0\n",
      "RENT                 0\n",
      "OWN_RES              0\n",
      "NUM_CRED             1\n",
      "JOB                  2\n",
      "NUM_DEPENDEN         1\n",
      "TEL                  0\n",
      "FOREIGN              0\n",
      "Name: 938, dtype: int64\n",
      "Class :  0\n",
      "Predict Class :  0\n",
      "a) Total  positive log-evidence :  2.96594236357\n",
      "b) Total negative log-evidence :  5.75603249665\n",
      "c) Probability distribution [ 0.92943393  0.07056607]\n",
      "d) Top 3 features values that contribute most to the positive evidence\n",
      "\t 2 \t Evidence Value :  0.895623530101\n",
      "\t 21 \t Evidence Value :  0.604003947677\n",
      "\t 0 \t Evidence Value :  0.526223332677\n",
      "e) Top 3 features values that contribute most to the negative evidence\n",
      "\t 1 \t Evidence Value :  -2.37537784324\n",
      "\t 12 \t Evidence Value :  -1.4010454989\n",
      "\t 7 \t Evidence Value :  -0.875088152103\n",
      "[ 0.89562353  0.60400395  0.52622333  0.51550071  0.35552873  0.06906211\n",
      "  0.          0.          0.          0.          0.         -0.          0.\n",
      " -0.          0.          0.          0.          0.         -0.         -0.\n",
      " -0.         -0.         -0.08265382 -0.11537684 -0.17149333 -0.21540972\n",
      " -0.51958729 -0.87508815 -1.4010455  -2.37537784]\n",
      "[-2.37537784 -1.4010455  -0.87508815 -0.51958729 -0.21540972 -0.17149333\n",
      " -0.11537684 -0.08265382 -0.         -0.         -0.         -0.          0.\n",
      "  0.          0.          0.         -0.          0.         -0.          0.\n",
      "  0.          0.          0.          0.          0.06906211  0.35552873\n",
      "  0.51550071  0.52622333  0.60400395  0.89562353]\n"
     ]
    }
   ],
   "source": [
    "print('Index of the object : ', most_neg_obj_idx)\n",
    "print(X_test.iloc[most_neg_obj_idx, :])\n",
    "print('Class : ', y_test.iloc[most_neg_obj_idx])\n",
    "print('Predict Class : ', y_pred[most_neg_obj_idx])\n",
    "print('a) Total  positive log-evidence : ', pos_ev[most_neg_obj_idx])\n",
    "print('b) Total negative log-evidence : ', neg_ev[most_neg_obj_idx])\n",
    "print('c) Probability distribution', y_pred_proba[most_neg_obj_idx])\n",
    "\n",
    "feature_pos = X_ev[most_neg_obj_idx,:]\n",
    "pos_list = np.argsort(feature_pos)[::-1]\n",
    "feature_neg = X_ev[most_neg_obj_idx,:]\n",
    "neg_list = np.argsort(feature_neg)\n",
    "#feature_pos = np.multiply(X[most_neg_obj_idx, :], pos_X.T)\n",
    "#pos_list = np.argsort(feature_pos)[::-1]\n",
    "#feature_neg = np.multiply(1-X[most_neg_obj_idx, :], neg_X.T)\n",
    "#neg_list = np.argsort(feature_neg)\n",
    "\n",
    "print('d) Top 3 features values that contribute most to the positive evidence')\n",
    "for i in range(0,3):\n",
    "    print('\\t',pos_list[i], '\\t Evidence Value : ', np.sort(feature_pos)[::-1][i])\n",
    " \n",
    "print('e) Top 3 features values that contribute most to the negative evidence')\n",
    "for j in range(0,3):\n",
    "    print('\\t',neg_list[j], '\\t Evidence Value : ', np.sort(feature_neg)[j])\n",
    "\n",
    "print(np.sort(feature_pos)[::-1])     \n",
    "print(np.sort(feature_neg))"
   ]
  },
  {
   "cell_type": "markdown",
   "metadata": {},
   "source": [
    "### The object that has the largest positive evidence."
   ]
  },
  {
   "cell_type": "code",
   "execution_count": 19,
   "metadata": {
    "collapsed": true
   },
   "outputs": [],
   "source": [
    "most_pos_ev_idx = np.argmax(pos_ev)"
   ]
  },
  {
   "cell_type": "code",
   "execution_count": 20,
   "metadata": {},
   "outputs": [
    {
     "name": "stdout",
     "output_type": "stream",
     "text": [
      "Index of the object :  267\n",
      "CHK_ACCT             3\n",
      "DURATION            24\n",
      "CRED_HIST            4\n",
      "NEW_CAR              0\n",
      "USER_CAR             1\n",
      "FURN                 0\n",
      "TV                   0\n",
      "EDU                  0\n",
      "RETRAIN              0\n",
      "AMT               2197\n",
      "SAV_ACCT             4\n",
      "EMPLOYM              3\n",
      "INSTALL_RATE         4\n",
      "MALE_DIV             0\n",
      "MALE_SING            1\n",
      "MALE_MAR_WID         0\n",
      "CO-APP               0\n",
      "GUARANTOR            0\n",
      "PRES_RESIDENT        4\n",
      "REAL_ESTATE          0\n",
      "PROP_UNKN_NONE       0\n",
      "AGE                 43\n",
      "OTHER_INSTALL        0\n",
      "RENT                 0\n",
      "OWN_RES              1\n",
      "NUM_CRED             2\n",
      "JOB                  2\n",
      "NUM_DEPENDEN         2\n",
      "TEL                  1\n",
      "FOREIGN              0\n",
      "Name: 406, dtype: int64\n",
      "Class :  1\n",
      "Predict Class :  1\n",
      "a) Total  positive log-evidence :  7.7530083369\n",
      "b) Total negative log-evidence :  3.37181904253\n",
      "c) Probability distribution [ 0.0100185  0.9899815]\n",
      "d) Top 3 features values that contribute most to the positive evidence\n",
      "\t 2 \t Evidence Value :  1.7912470602\n",
      "\t 0 \t Evidence Value :  1.57866999803\n",
      "\t 10 \t Evidence Value :  1.24740523307\n",
      "e) Top 3 features values that contribute most to the negative evidence\n",
      "\t 12 \t Evidence Value :  -1.4010454989\n",
      "\t 1 \t Evidence Value :  -0.950151137297\n",
      "\t 27 \t Evidence Value :  -0.342986657409\n",
      "[ 1.79124706  1.57867     1.24740523  0.84399719  0.61838499  0.5332931\n",
      "  0.51550071  0.48342591  0.14108414 -0.         -0.          0.          0.\n",
      " -0.         -0.         -0.         -0.          0.         -0.          0.\n",
      "  0.          0.          0.         -0.11537684 -0.16530763 -0.18154155\n",
      " -0.21540972 -0.34298666 -0.95015114 -1.4010455 ]\n",
      "[-1.4010455  -0.95015114 -0.34298666 -0.21540972 -0.18154155 -0.16530763\n",
      " -0.11537684  0.          0.          0.          0.         -0.          0.\n",
      " -0.         -0.         -0.         -0.          0.          0.         -0.\n",
      " -0.          0.14108414  0.48342591  0.51550071  0.5332931   0.61838499\n",
      "  0.84399719  1.24740523  1.57867     1.79124706]\n"
     ]
    }
   ],
   "source": [
    "print('Index of the object : ', most_pos_ev_idx)\n",
    "print(X_test.iloc[most_pos_ev_idx, :])\n",
    "print('Class : ', y_test.iloc[most_pos_ev_idx])\n",
    "print('Predict Class : ', y_pred[most_pos_ev_idx])\n",
    "print('a) Total  positive log-evidence : ', pos_ev[most_pos_ev_idx])\n",
    "print('b) Total negative log-evidence : ', neg_ev[most_pos_ev_idx])\n",
    "print('c) Probability distribution', y_pred_proba[most_pos_ev_idx])\n",
    "\n",
    "feature_pos = X_ev[most_pos_ev_idx,:]\n",
    "pos_list = np.argsort(feature_pos)[::-1]\n",
    "feature_neg = X_ev[most_pos_ev_idx,:]\n",
    "neg_list = np.argsort(feature_neg)\n",
    "\n",
    "print('d) Top 3 features values that contribute most to the positive evidence')\n",
    "for i in range(0,3):\n",
    "    print('\\t',pos_list[i], '\\t Evidence Value : ', np.sort(feature_pos)[::-1][i])\n",
    " \n",
    "print('e) Top 3 features values that contribute most to the negative evidence')\n",
    "for j in range(0,3):\n",
    "    print('\\t',neg_list[j], '\\t Evidence Value : ', np.sort(feature_neg)[j])\n",
    "\n",
    "print(np.sort(feature_pos)[::-1])     \n",
    "print(np.sort(feature_neg))"
   ]
  },
  {
   "cell_type": "markdown",
   "metadata": {},
   "source": [
    "### The object that has the largest negative evidence."
   ]
  },
  {
   "cell_type": "code",
   "execution_count": 21,
   "metadata": {
    "collapsed": true
   },
   "outputs": [],
   "source": [
    "most_neg_ev_idx = np.argmin(neg_ev)"
   ]
  },
  {
   "cell_type": "code",
   "execution_count": 22,
   "metadata": {},
   "outputs": [
    {
     "name": "stdout",
     "output_type": "stream",
     "text": [
      "Index of the object :  161\n",
      "CHK_ACCT             3\n",
      "DURATION             6\n",
      "CRED_HIST            4\n",
      "NEW_CAR              0\n",
      "USER_CAR             0\n",
      "FURN                 0\n",
      "TV                   1\n",
      "EDU                  0\n",
      "RETRAIN              0\n",
      "AMT               1237\n",
      "SAV_ACCT             1\n",
      "EMPLOYM              2\n",
      "INSTALL_RATE         1\n",
      "MALE_DIV             0\n",
      "MALE_SING            0\n",
      "MALE_MAR_WID         0\n",
      "CO-APP               0\n",
      "GUARANTOR            0\n",
      "PRES_RESIDENT        1\n",
      "REAL_ESTATE          0\n",
      "PROP_UNKN_NONE       0\n",
      "AGE                 27\n",
      "OTHER_INSTALL        0\n",
      "RENT                 0\n",
      "OWN_RES              1\n",
      "NUM_CRED             2\n",
      "JOB                  2\n",
      "NUM_DEPENDEN         1\n",
      "TEL                  0\n",
      "FOREIGN              0\n",
      "Name: 492, dtype: int64\n",
      "Class :  1\n",
      "Predict Class :  1\n",
      "a) Total  positive log-evidence :  4.81366310417\n",
      "b) Total negative log-evidence :  1.19604463902\n",
      "c) Probability distribution [ 0.02125493  0.97874507]\n",
      "d) Top 3 features values that contribute most to the positive evidence\n",
      "\t 2 \t Evidence Value :  1.7912470602\n",
      "\t 0 \t Evidence Value :  1.57866999803\n",
      "\t 21 \t Evidence Value :  0.388288252078\n",
      "e) Top 3 features values that contribute most to the negative evidence\n",
      "\t 12 \t Evidence Value :  -0.350261374726\n",
      "\t 1 \t Evidence Value :  -0.237537784324\n",
      "\t 27 \t Evidence Value :  -0.171493328705\n",
      "\n"
     ]
    }
   ],
   "source": [
    "print('Index of the object : ', most_neg_ev_idx)\n",
    "print(X_test.iloc[most_neg_ev_idx, :])\n",
    "print('Class : ', y_test.iloc[most_neg_ev_idx])\n",
    "print('Predict Class : ', y_pred[most_neg_ev_idx])\n",
    "print('a) Total  positive log-evidence : ', pos_ev[most_neg_ev_idx])\n",
    "print('b) Total negative log-evidence : ', neg_ev[most_neg_ev_idx])\n",
    "print('c) Probability distribution', y_pred_proba[most_neg_ev_idx])\n",
    "\n",
    "feature_pos = X_ev[most_neg_ev_idx,:]\n",
    "pos_list = np.argsort(feature_pos)[::-1]\n",
    "feature_neg = X_ev[most_neg_ev_idx,:]\n",
    "neg_list = np.argsort(feature_neg)\n",
    "\n",
    "print('d) Top 3 features values that contribute most to the positive evidence')\n",
    "for i in range(0,3):\n",
    "    print('\\t',pos_list[i], '\\t Evidence Value : ', np.sort(feature_pos)[::-1][i])\n",
    " \n",
    "print('e) Top 3 features values that contribute most to the negative evidence')\n",
    "for j in range(0,3):\n",
    "    print('\\t',neg_list[j], '\\t Evidence Value : ', np.sort(feature_neg)[j])\n",
    "\n",
    "print()     \n"
   ]
  },
  {
   "cell_type": "markdown",
   "metadata": {},
   "source": [
    "### The most uncertain object with respect to the probabilities."
   ]
  },
  {
   "cell_type": "code",
   "execution_count": 23,
   "metadata": {
    "collapsed": true
   },
   "outputs": [],
   "source": [
    "uncertain_idx = np.argmin(np.square(y_pred_proba[:,1]-0.5))"
   ]
  },
  {
   "cell_type": "code",
   "execution_count": 24,
   "metadata": {},
   "outputs": [
    {
     "name": "stdout",
     "output_type": "stream",
     "text": [
      "Index of the object :  277\n",
      "CHK_ACCT             1\n",
      "DURATION            24\n",
      "CRED_HIST            4\n",
      "NEW_CAR              1\n",
      "USER_CAR             0\n",
      "FURN                 0\n",
      "TV                   0\n",
      "EDU                  0\n",
      "RETRAIN              0\n",
      "AMT               3878\n",
      "SAV_ACCT             1\n",
      "EMPLOYM              1\n",
      "INSTALL_RATE         4\n",
      "MALE_DIV             1\n",
      "MALE_SING            0\n",
      "MALE_MAR_WID         0\n",
      "CO-APP               0\n",
      "GUARANTOR            0\n",
      "PRES_RESIDENT        2\n",
      "REAL_ESTATE          0\n",
      "PROP_UNKN_NONE       0\n",
      "AGE                 37\n",
      "OTHER_INSTALL        0\n",
      "RENT                 0\n",
      "OWN_RES              1\n",
      "NUM_CRED             1\n",
      "JOB                  2\n",
      "NUM_DEPENDEN         1\n",
      "TEL                  1\n",
      "FOREIGN              0\n",
      "Name: 284, dtype: int64\n",
      "Class :  1\n",
      "Predict Class :  0\n",
      "\t \t \t \t \t False Positive\n",
      "a) Total  positive log-evidence :  3.96369483383\n",
      "b) Total negative log-evidence :  4.17913592814\n",
      "c) Probability distribution [ 0.5008443  0.4991557]\n",
      "d) Top 3 features values that contribute most to the positive evidence\n",
      "\t 2 \t Evidence Value :  1.7912470602\n",
      "\t 21 \t Evidence Value :  0.532098715811\n",
      "\t 0 \t Evidence Value :  0.526223332677\n",
      "e) Top 3 features values that contribute most to the negative evidence\n",
      "\t 12 \t Evidence Value :  -1.4010454989\n",
      "\t 1 \t Evidence Value :  -0.950151137297\n",
      "\t 3 \t Evidence Value :  -0.893416831336\n"
     ]
    }
   ],
   "source": [
    "print('Index of the object : ', uncertain_idx)\n",
    "print(X_test.iloc[uncertain_idx, :])\n",
    "print('Class : ', y_test.iloc[uncertain_idx])\n",
    "print('Predict Class : ', y_pred[uncertain_idx])\n",
    "\n",
    "if y_test.iloc[uncertain_idx] != y_pred[uncertain_idx]:\n",
    "    print('\\t \\t \\t \\t \\t False Positive')\n",
    "\n",
    "print('a) Total  positive log-evidence : ', pos_ev[uncertain_idx])\n",
    "print('b) Total negative log-evidence : ', neg_ev[uncertain_idx])\n",
    "print('c) Probability distribution', y_pred_proba[uncertain_idx])\n",
    "\n",
    "feature_pos = X_ev[uncertain_idx,:]\n",
    "pos_list = np.argsort(feature_pos)[::-1]\n",
    "feature_neg = X_ev[uncertain_idx,:]\n",
    "neg_list = np.argsort(feature_neg)\n",
    "\n",
    "print('d) Top 3 features values that contribute most to the positive evidence')\n",
    "for i in range(0,3):\n",
    "    print('\\t',pos_list[i], '\\t Evidence Value : ', np.sort(feature_pos)[::-1][i])\n",
    "    \n",
    "print('e) Top 3 features values that contribute most to the negative evidence')\n",
    "for j in range(0,3):\n",
    "    print('\\t',neg_list[j], '\\t Evidence Value : ', np.sort(feature_neg)[j])"
   ]
  }
 ],
 "metadata": {
  "kernelspec": {
   "display_name": "Python 3",
   "language": "python",
   "name": "python3"
  },
  "language_info": {
   "codemirror_mode": {
    "name": "ipython",
    "version": 3
   },
   "file_extension": ".py",
   "mimetype": "text/x-python",
   "name": "python",
   "nbconvert_exporter": "python",
   "pygments_lexer": "ipython3",
   "version": "3.6.2"
  }
 },
 "nbformat": 4,
 "nbformat_minor": 2
}
