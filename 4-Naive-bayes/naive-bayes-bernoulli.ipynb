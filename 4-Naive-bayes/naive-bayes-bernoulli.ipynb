{
 "cells": [
  {
   "cell_type": "markdown",
   "metadata": {},
   "source": [
    "# Naive Bayes Classifier\n",
    "\n",
    "Bernoulli NB\n",
    "\n",
    "## Pima Indians Diabetes Data Set\n",
    "URL : https://archive.ics.uci.edu/ml/datasets/pima+indians+diabetes\n",
    "Original owner : National Institute of Diabetes and Digestive and Kidney Diseases\n",
    "\n",
    "Dataset\n",
    "No. of instances : 768\n",
    "There are some mising values on the data set\n",
    "\n",
    "\n",
    "Feature Information :\n",
    "\n",
    "1. Number of times pregnant \n",
    "2. Plasma glucose concentration a 2 hours in an oral glucose tolerance test \n",
    "3. Diastolic blood pressure (mm Hg) \n",
    "4. Triceps skin fold thickness (mm) \n",
    "5. 2-Hour serum insulin (mu U/ml) \n",
    "6. Body mass index (weight in kg/(height in m)^2) \n",
    "7. Diabetes pedigree function \n",
    "8. Age (years) \n",
    "9. Class variable (0 or 1) \n",
    "\n",
    "In the archive URL, it stated that some of the features value are taken as 0. However, it is biologically impossible to give the number 0. Here is the list of the features which biologically has to be positive value greater than 0 :\n",
    "\n",
    "1. Blood Pressure\n",
    "2. BMI\n",
    "\n",
    "Thus, for these feature, we replace the 0 value with the mean value for each feature. \n"
   ]
  },
  {
   "cell_type": "code",
   "execution_count": 26,
   "metadata": {
    "collapsed": true
   },
   "outputs": [],
   "source": [
    "#Library\n",
    "\n",
    "import numpy as np\n",
    "import pandas as pd\n",
    "from sklearn.preprocessing import binarize\n",
    "from sklearn.model_selection import train_test_split\n",
    "from sklearn.naive_bayes import BernoulliNB\n",
    "from sklearn.model_selection import KFold\n",
    "from sklearn.model_selection import cross_val_score\n",
    "from sklearn.metrics import accuracy_score\n",
    "from matplotlib import pyplot as plt\n",
    "from pandas.plotting import scatter_matrix\n",
    "from sklearn.utils.extmath import safe_sparse_dot"
   ]
  },
  {
   "cell_type": "markdown",
   "metadata": {},
   "source": [
    "## Loading the dataset"
   ]
  },
  {
   "cell_type": "code",
   "execution_count": 27,
   "metadata": {
    "collapsed": true
   },
   "outputs": [],
   "source": [
    "url = \"https://archive.ics.uci.edu/ml/machine-learning-databases/pima-indians-diabetes/pima-indians-diabetes.data\"\n",
    "names = ['pregnant', 'glucose', 'pressure', 'skin', 'insltest', 'bmi', 'pedi', 'age', 'class']\n",
    "\n",
    "pima_df = pd.read_csv(url, names=names)"
   ]
  },
  {
   "cell_type": "code",
   "execution_count": 28,
   "metadata": {},
   "outputs": [
    {
     "data": {
      "text/html": [
       "<div>\n",
       "<style>\n",
       "    .dataframe thead tr:only-child th {\n",
       "        text-align: right;\n",
       "    }\n",
       "\n",
       "    .dataframe thead th {\n",
       "        text-align: left;\n",
       "    }\n",
       "\n",
       "    .dataframe tbody tr th {\n",
       "        vertical-align: top;\n",
       "    }\n",
       "</style>\n",
       "<table border=\"1\" class=\"dataframe\">\n",
       "  <thead>\n",
       "    <tr style=\"text-align: right;\">\n",
       "      <th></th>\n",
       "      <th>pregnant</th>\n",
       "      <th>glucose</th>\n",
       "      <th>pressure</th>\n",
       "      <th>skin</th>\n",
       "      <th>insltest</th>\n",
       "      <th>bmi</th>\n",
       "      <th>pedi</th>\n",
       "      <th>age</th>\n",
       "      <th>class</th>\n",
       "    </tr>\n",
       "  </thead>\n",
       "  <tbody>\n",
       "    <tr>\n",
       "      <th>0</th>\n",
       "      <td>6</td>\n",
       "      <td>148</td>\n",
       "      <td>72</td>\n",
       "      <td>35</td>\n",
       "      <td>0</td>\n",
       "      <td>33.6</td>\n",
       "      <td>0.627</td>\n",
       "      <td>50</td>\n",
       "      <td>1</td>\n",
       "    </tr>\n",
       "    <tr>\n",
       "      <th>1</th>\n",
       "      <td>1</td>\n",
       "      <td>85</td>\n",
       "      <td>66</td>\n",
       "      <td>29</td>\n",
       "      <td>0</td>\n",
       "      <td>26.6</td>\n",
       "      <td>0.351</td>\n",
       "      <td>31</td>\n",
       "      <td>0</td>\n",
       "    </tr>\n",
       "    <tr>\n",
       "      <th>2</th>\n",
       "      <td>8</td>\n",
       "      <td>183</td>\n",
       "      <td>64</td>\n",
       "      <td>0</td>\n",
       "      <td>0</td>\n",
       "      <td>23.3</td>\n",
       "      <td>0.672</td>\n",
       "      <td>32</td>\n",
       "      <td>1</td>\n",
       "    </tr>\n",
       "    <tr>\n",
       "      <th>3</th>\n",
       "      <td>1</td>\n",
       "      <td>89</td>\n",
       "      <td>66</td>\n",
       "      <td>23</td>\n",
       "      <td>94</td>\n",
       "      <td>28.1</td>\n",
       "      <td>0.167</td>\n",
       "      <td>21</td>\n",
       "      <td>0</td>\n",
       "    </tr>\n",
       "    <tr>\n",
       "      <th>4</th>\n",
       "      <td>0</td>\n",
       "      <td>137</td>\n",
       "      <td>40</td>\n",
       "      <td>35</td>\n",
       "      <td>168</td>\n",
       "      <td>43.1</td>\n",
       "      <td>2.288</td>\n",
       "      <td>33</td>\n",
       "      <td>1</td>\n",
       "    </tr>\n",
       "    <tr>\n",
       "      <th>5</th>\n",
       "      <td>5</td>\n",
       "      <td>116</td>\n",
       "      <td>74</td>\n",
       "      <td>0</td>\n",
       "      <td>0</td>\n",
       "      <td>25.6</td>\n",
       "      <td>0.201</td>\n",
       "      <td>30</td>\n",
       "      <td>0</td>\n",
       "    </tr>\n",
       "    <tr>\n",
       "      <th>6</th>\n",
       "      <td>3</td>\n",
       "      <td>78</td>\n",
       "      <td>50</td>\n",
       "      <td>32</td>\n",
       "      <td>88</td>\n",
       "      <td>31.0</td>\n",
       "      <td>0.248</td>\n",
       "      <td>26</td>\n",
       "      <td>1</td>\n",
       "    </tr>\n",
       "    <tr>\n",
       "      <th>7</th>\n",
       "      <td>10</td>\n",
       "      <td>115</td>\n",
       "      <td>0</td>\n",
       "      <td>0</td>\n",
       "      <td>0</td>\n",
       "      <td>35.3</td>\n",
       "      <td>0.134</td>\n",
       "      <td>29</td>\n",
       "      <td>0</td>\n",
       "    </tr>\n",
       "    <tr>\n",
       "      <th>8</th>\n",
       "      <td>2</td>\n",
       "      <td>197</td>\n",
       "      <td>70</td>\n",
       "      <td>45</td>\n",
       "      <td>543</td>\n",
       "      <td>30.5</td>\n",
       "      <td>0.158</td>\n",
       "      <td>53</td>\n",
       "      <td>1</td>\n",
       "    </tr>\n",
       "    <tr>\n",
       "      <th>9</th>\n",
       "      <td>8</td>\n",
       "      <td>125</td>\n",
       "      <td>96</td>\n",
       "      <td>0</td>\n",
       "      <td>0</td>\n",
       "      <td>0.0</td>\n",
       "      <td>0.232</td>\n",
       "      <td>54</td>\n",
       "      <td>1</td>\n",
       "    </tr>\n",
       "  </tbody>\n",
       "</table>\n",
       "</div>"
      ],
      "text/plain": [
       "   pregnant  glucose  pressure  skin  insltest   bmi   pedi  age  class\n",
       "0         6      148        72    35         0  33.6  0.627   50      1\n",
       "1         1       85        66    29         0  26.6  0.351   31      0\n",
       "2         8      183        64     0         0  23.3  0.672   32      1\n",
       "3         1       89        66    23        94  28.1  0.167   21      0\n",
       "4         0      137        40    35       168  43.1  2.288   33      1\n",
       "5         5      116        74     0         0  25.6  0.201   30      0\n",
       "6         3       78        50    32        88  31.0  0.248   26      1\n",
       "7        10      115         0     0         0  35.3  0.134   29      0\n",
       "8         2      197        70    45       543  30.5  0.158   53      1\n",
       "9         8      125        96     0         0   0.0  0.232   54      1"
      ]
     },
     "execution_count": 28,
     "metadata": {},
     "output_type": "execute_result"
    }
   ],
   "source": [
    "pima_df.head(10)"
   ]
  },
  {
   "cell_type": "code",
   "execution_count": 29,
   "metadata": {},
   "outputs": [
    {
     "data": {
      "text/plain": [
       "(768, 9)"
      ]
     },
     "execution_count": 29,
     "metadata": {},
     "output_type": "execute_result"
    }
   ],
   "source": [
    "pima_shape = pima_df.shape\n",
    "pima_shape"
   ]
  },
  {
   "cell_type": "code",
   "execution_count": 30,
   "metadata": {},
   "outputs": [
    {
     "data": {
      "image/png": "[encoded data removed]",
      "text/plain": [
       "<matplotlib.figure.Figure at 0x1e54414ce10>"
      ]
     },
     "metadata": {},
     "output_type": "display_data"
    }
   ],
   "source": [
    "pima_df.plot(kind='density', subplots=True, layout=(3,3), sharex=False)\n",
    "plt.show()"
   ]
  },
  {
   "cell_type": "markdown",
   "metadata": {},
   "source": [
    "## Data Preprocessing\n",
    "\n",
    "There are some missing values on blood pressure, insuline and skin thickness. Those missing values are written as zero. Here, we treat the missing value with the number of the $ E $ Mean value in each attribute $ X_i $\n",
    "\n",
    "1. Replace value 0 to the mean of the following feature :\n",
    "    1. Blood Pressure\n",
    "    2. BMI\n",
    "2. Binarize the data by each mean for the numerical value\n",
    "3. Split train and test dataset"
   ]
  },
  {
   "cell_type": "code",
   "execution_count": 31,
   "metadata": {},
   "outputs": [
    {
     "data": {
      "text/plain": [
       "pregnant      3.845052\n",
       "glucose     120.894531\n",
       "pressure     69.105469\n",
       "skin         20.536458\n",
       "insltest     79.799479\n",
       "bmi          31.992578\n",
       "pedi          0.471876\n",
       "age          33.240885\n",
       "class         0.348958\n",
       "dtype: float64"
      ]
     },
     "execution_count": 31,
     "metadata": {},
     "output_type": "execute_result"
    }
   ],
   "source": [
    "## Get the mean for each feature \n",
    "\n",
    "pima_mean = np.mean(pima_df)\n",
    "pima_mean"
   ]
  },
  {
   "cell_type": "code",
   "execution_count": 32,
   "metadata": {
    "collapsed": true,
    "scrolled": true
   },
   "outputs": [],
   "source": [
    "'''\n",
    "Replace empty value by its mean\n",
    "I put the value differently since one feature is an integer and one value is a float.\n",
    "'''\n",
    "\n",
    "## Blood pressure\n",
    "pima_df.iloc[:,2] = np.int_(pima_df.iloc[:,2].replace(0, pima_mean[2]))\n",
    "\n",
    "## BMI\n",
    "pima_df.iloc[:,5] = np.round(pima_df.iloc[:,5].replace(0, pima_mean[5]), 1)"
   ]
  },
  {
   "cell_type": "code",
   "execution_count": 33,
   "metadata": {},
   "outputs": [
    {
     "data": {
      "text/html": [
       "<div>\n",
       "<style>\n",
       "    .dataframe thead tr:only-child th {\n",
       "        text-align: right;\n",
       "    }\n",
       "\n",
       "    .dataframe thead th {\n",
       "        text-align: left;\n",
       "    }\n",
       "\n",
       "    .dataframe tbody tr th {\n",
       "        vertical-align: top;\n",
       "    }\n",
       "</style>\n",
       "<table border=\"1\" class=\"dataframe\">\n",
       "  <thead>\n",
       "    <tr style=\"text-align: right;\">\n",
       "      <th></th>\n",
       "      <th>pregnant</th>\n",
       "      <th>glucose</th>\n",
       "      <th>pressure</th>\n",
       "      <th>skin</th>\n",
       "      <th>insltest</th>\n",
       "      <th>bmi</th>\n",
       "      <th>pedi</th>\n",
       "      <th>age</th>\n",
       "      <th>class</th>\n",
       "    </tr>\n",
       "  </thead>\n",
       "  <tbody>\n",
       "    <tr>\n",
       "      <th>0</th>\n",
       "      <td>1.0</td>\n",
       "      <td>1.0</td>\n",
       "      <td>1.0</td>\n",
       "      <td>1.0</td>\n",
       "      <td>0.0</td>\n",
       "      <td>1.0</td>\n",
       "      <td>1.0</td>\n",
       "      <td>1.0</td>\n",
       "      <td>1</td>\n",
       "    </tr>\n",
       "    <tr>\n",
       "      <th>1</th>\n",
       "      <td>0.0</td>\n",
       "      <td>0.0</td>\n",
       "      <td>0.0</td>\n",
       "      <td>1.0</td>\n",
       "      <td>0.0</td>\n",
       "      <td>0.0</td>\n",
       "      <td>0.0</td>\n",
       "      <td>0.0</td>\n",
       "      <td>0</td>\n",
       "    </tr>\n",
       "    <tr>\n",
       "      <th>2</th>\n",
       "      <td>1.0</td>\n",
       "      <td>1.0</td>\n",
       "      <td>0.0</td>\n",
       "      <td>0.0</td>\n",
       "      <td>0.0</td>\n",
       "      <td>0.0</td>\n",
       "      <td>1.0</td>\n",
       "      <td>0.0</td>\n",
       "      <td>1</td>\n",
       "    </tr>\n",
       "    <tr>\n",
       "      <th>3</th>\n",
       "      <td>0.0</td>\n",
       "      <td>0.0</td>\n",
       "      <td>0.0</td>\n",
       "      <td>1.0</td>\n",
       "      <td>1.0</td>\n",
       "      <td>0.0</td>\n",
       "      <td>0.0</td>\n",
       "      <td>0.0</td>\n",
       "      <td>0</td>\n",
       "    </tr>\n",
       "    <tr>\n",
       "      <th>4</th>\n",
       "      <td>0.0</td>\n",
       "      <td>1.0</td>\n",
       "      <td>0.0</td>\n",
       "      <td>1.0</td>\n",
       "      <td>1.0</td>\n",
       "      <td>1.0</td>\n",
       "      <td>1.0</td>\n",
       "      <td>0.0</td>\n",
       "      <td>1</td>\n",
       "    </tr>\n",
       "    <tr>\n",
       "      <th>5</th>\n",
       "      <td>1.0</td>\n",
       "      <td>0.0</td>\n",
       "      <td>1.0</td>\n",
       "      <td>0.0</td>\n",
       "      <td>0.0</td>\n",
       "      <td>0.0</td>\n",
       "      <td>0.0</td>\n",
       "      <td>0.0</td>\n",
       "      <td>0</td>\n",
       "    </tr>\n",
       "    <tr>\n",
       "      <th>6</th>\n",
       "      <td>0.0</td>\n",
       "      <td>0.0</td>\n",
       "      <td>0.0</td>\n",
       "      <td>1.0</td>\n",
       "      <td>1.0</td>\n",
       "      <td>0.0</td>\n",
       "      <td>0.0</td>\n",
       "      <td>0.0</td>\n",
       "      <td>1</td>\n",
       "    </tr>\n",
       "    <tr>\n",
       "      <th>7</th>\n",
       "      <td>1.0</td>\n",
       "      <td>0.0</td>\n",
       "      <td>0.0</td>\n",
       "      <td>0.0</td>\n",
       "      <td>0.0</td>\n",
       "      <td>1.0</td>\n",
       "      <td>0.0</td>\n",
       "      <td>0.0</td>\n",
       "      <td>0</td>\n",
       "    </tr>\n",
       "    <tr>\n",
       "      <th>8</th>\n",
       "      <td>0.0</td>\n",
       "      <td>1.0</td>\n",
       "      <td>1.0</td>\n",
       "      <td>1.0</td>\n",
       "      <td>1.0</td>\n",
       "      <td>0.0</td>\n",
       "      <td>0.0</td>\n",
       "      <td>1.0</td>\n",
       "      <td>1</td>\n",
       "    </tr>\n",
       "    <tr>\n",
       "      <th>9</th>\n",
       "      <td>1.0</td>\n",
       "      <td>1.0</td>\n",
       "      <td>1.0</td>\n",
       "      <td>0.0</td>\n",
       "      <td>0.0</td>\n",
       "      <td>1.0</td>\n",
       "      <td>0.0</td>\n",
       "      <td>1.0</td>\n",
       "      <td>1</td>\n",
       "    </tr>\n",
       "  </tbody>\n",
       "</table>\n",
       "</div>"
      ],
      "text/plain": [
       "   pregnant  glucose  pressure  skin  insltest  bmi  pedi  age  class\n",
       "0       1.0      1.0       1.0   1.0       0.0  1.0   1.0  1.0      1\n",
       "1       0.0      0.0       0.0   1.0       0.0  0.0   0.0  0.0      0\n",
       "2       1.0      1.0       0.0   0.0       0.0  0.0   1.0  0.0      1\n",
       "3       0.0      0.0       0.0   1.0       1.0  0.0   0.0  0.0      0\n",
       "4       0.0      1.0       0.0   1.0       1.0  1.0   1.0  0.0      1\n",
       "5       1.0      0.0       1.0   0.0       0.0  0.0   0.0  0.0      0\n",
       "6       0.0      0.0       0.0   1.0       1.0  0.0   0.0  0.0      1\n",
       "7       1.0      0.0       0.0   0.0       0.0  1.0   0.0  0.0      0\n",
       "8       0.0      1.0       1.0   1.0       1.0  0.0   0.0  1.0      1\n",
       "9       1.0      1.0       1.0   0.0       0.0  1.0   0.0  1.0      1"
      ]
     },
     "execution_count": 33,
     "metadata": {},
     "output_type": "execute_result"
    }
   ],
   "source": [
    "### Binarize data\n",
    "\n",
    "pima_array = pima_df.values\n",
    "\n",
    "for f_idx in range(0, len(pima_mean)-1) :\n",
    "    pima_array[:,f_idx] = binarize(pima_array[:,f_idx].reshape(-1,1), threshold=pima_mean[f_idx]).reshape(1,-1)\n",
    "    pima_df.iloc[:,f_idx] = pima_array[:,f_idx]\n",
    "\n",
    "pima_df.head(10)"
   ]
  },
  {
   "cell_type": "code",
   "execution_count": 34,
   "metadata": {
    "collapsed": true
   },
   "outputs": [],
   "source": [
    "### Train Test Split\n",
    "\n",
    "X_pima_train, X_pima_test, y_pima_train, y_pima_test = train_test_split(pima_df.iloc[:, :8], \n",
    "                                                                        pima_df.iloc[:, 8], \n",
    "                                                                        test_size=0.30)\n"
   ]
  },
  {
   "cell_type": "markdown",
   "metadata": {},
   "source": [
    "# Train the Dataset and Evaluate\n",
    "\n",
    "Using the Bernoulli Naive Bayes\n",
    "\n",
    "Variable :\n",
    "1. clf\\_bnb = classifief for Bernoulli NB()\n",
    "2. y_pred_train = predict output\n",
    "3. y_pred_proba_lg_train : the predict output w.r.t to log probability\n",
    "4. y_pred_proba_train : the predict output w.r.t to probability"
   ]
  },
  {
   "cell_type": "code",
   "execution_count": 35,
   "metadata": {},
   "outputs": [
    {
     "data": {
      "text/plain": [
       "0.68398268398268403"
      ]
     },
     "execution_count": 35,
     "metadata": {},
     "output_type": "execute_result"
    }
   ],
   "source": [
    "clf = BernoulliNB()\n",
    "clf.fit(X_pima_train, y_pima_train)\n",
    "\n",
    "y_pred = clf.predict(X_pima_test)\n",
    "y_pred_proba = clf.predict_proba(X_pima_test)\n",
    "\n",
    "accuracy_score(y_pred, y_pima_test)\n"
   ]
  },
  {
   "cell_type": "code",
   "execution_count": 36,
   "metadata": {},
   "outputs": [
    {
     "name": "stdout",
     "output_type": "stream",
     "text": [
      "ratio of prior probability\n",
      "-0.726858237902\n"
     ]
    }
   ],
   "source": [
    "'''Get the ratio of prior probabilities P(Y=1)/P(Y=0)'''\n",
    "\n",
    "prior_prob_ratio_ = clf.class_log_prior_[1] - clf.class_log_prior_[0]\n",
    "print('ratio of prior probability')\n",
    "print(prior_prob_ratio_)"
   ]
  },
  {
   "cell_type": "code",
   "execution_count": 37,
   "metadata": {
    "scrolled": true
   },
   "outputs": [
    {
     "name": "stdout",
     "output_type": "stream",
     "text": [
      "positive ratio of F\n",
      "[ 0.47588168  0.92509949  0.23359095  0.15485665  0.32827805  0.41084921\n",
      "  0.3358237   0.68290429]\n",
      "negative ratio of F\n",
      "[-0.46542436 -0.98180785 -0.37163799 -0.20698264 -0.20341672 -0.546949\n",
      " -0.22463881 -0.52400686]\n"
     ]
    }
   ],
   "source": [
    "''' Get Evidence \n",
    "Input : X_pima_train \n",
    "X : positive data'''\n",
    "\n",
    "X = np.copy(X_pima_test)\n",
    "\n",
    "\"P(X_i|Y) {positive and negative}\"\n",
    "\n",
    "val_X_log_prob_ = clf.feature_log_prob_\n",
    "neg_X_log_prob_ = np.log(1-np.exp(val_X_log_prob_))\n",
    "\n",
    "\"log ratio of feature probability. P(X|Y=1)/P(X|Y=0) for positive and negative\"\n",
    "val_X_log_ratio_ = val_X_log_prob_[1, :] - val_X_log_prob_[0, :]\n",
    "neg_X_log_ratio_ = neg_X_log_prob_[1, :] - neg_X_log_prob_[0, :]\n",
    "\n",
    "print('positive ratio of F')\n",
    "print(val_X_log_ratio_)\n",
    "print('negative ratio of F')\n",
    "print(neg_X_log_ratio_)\n",
    "\n",
    "##########################################################################################\n",
    "\n",
    "\"Check if the ratio each is > 0 or < 0\"\n",
    "val_pos_X = val_X_log_ratio_ * (val_X_log_ratio_ > 0)\n",
    "val_neg_X = val_X_log_ratio_ * (val_X_log_ratio_ < 0)\n",
    "neg_pos_X = neg_X_log_ratio_ * (neg_X_log_ratio_ > 0)\n",
    "neg_neg_X = neg_X_log_ratio_ * (neg_X_log_ratio_ < 0)\n",
    "\n",
    "\"Calculate each instances evidence in X\"\n",
    "\n",
    "val_pos_ev = safe_sparse_dot(X, val_pos_X.T)\n",
    "val_neg_ev = safe_sparse_dot(X, val_neg_X.T)\n",
    "\n",
    "neg_pos_ev = safe_sparse_dot(1-X, neg_pos_X.T)\n",
    "neg_neg_ev = safe_sparse_dot(1-X, neg_neg_X.T)\n",
    "\n",
    "pos_ev = val_pos_ev + neg_pos_ev\n",
    "neg_ev = val_neg_ev + neg_neg_ev\n"
   ]
  },
  {
   "cell_type": "markdown",
   "metadata": {},
   "source": [
    "### The most positive object with respect to the probabilities."
   ]
  },
  {
   "cell_type": "code",
   "execution_count": 38,
   "metadata": {},
   "outputs": [
    {
     "name": "stdout",
     "output_type": "stream",
     "text": [
      "37\n"
     ]
    }
   ],
   "source": [
    "most_pos_obj_idx = np.argmax(y_pred_proba[:,1])\n",
    "print(most_pos_obj_idx)"
   ]
  },
  {
   "cell_type": "code",
   "execution_count": 39,
   "metadata": {},
   "outputs": [
    {
     "name": "stdout",
     "output_type": "stream",
     "text": [
      "Index of the object :  37\n",
      "Data [ 1.  1.  1.  1.  1.  1.  1.  1.]\n",
      "a) Total  positive log-evidence :  3.54728401207\n",
      "b) Total negative log-evidence :  0.0\n",
      "c) Probability distribution [ 0.05623033  0.94376967]\n",
      "d) Top 3 features values that contribute most to the positive evidence\n",
      "\t glucose \t Evidence Value :  0.925099491406\n",
      "\t age \t Evidence Value :  0.682904288831\n",
      "\t pregnant \t Evidence Value :  0.47588167703\n",
      "e) Top 3 features values that contribute most to the negative evidence\n",
      "\t pregnant \t Evidence Value :  0.0\n",
      "\t glucose \t Evidence Value :  0.0\n",
      "\t pressure \t Evidence Value :  0.0\n",
      "[ 0.92509949  0.68290429  0.47588168  0.41084921  0.3358237   0.32827805\n",
      "  0.23359095  0.15485665]\n",
      "[ 0.  0.  0.  0.  0.  0.  0.  0.]\n"
     ]
    }
   ],
   "source": [
    "print('Index of the object : ', most_pos_obj_idx)\n",
    "print('Data', X[most_pos_obj_idx])\n",
    "print('a) Total  positive log-evidence : ', pos_ev[most_pos_obj_idx])\n",
    "print('b) Total negative log-evidence : ', neg_ev[most_pos_obj_idx])\n",
    "print('c) Probability distribution', y_pred_proba[most_pos_obj_idx])\n",
    "\n",
    "val_pos_ev = np.multiply(X[most_pos_obj_idx, :], val_pos_X.T)\n",
    "val_neg_ev = np.multiply(X[most_pos_obj_idx, :], val_neg_X.T)\n",
    "\n",
    "neg_pos_ev = np.multiply(1-X[most_pos_obj_idx, :], neg_pos_X.T)\n",
    "neg_neg_ev = np.multiply(1-X[most_pos_obj_idx, :], neg_neg_X.T)\n",
    "\n",
    "feature_pos = val_pos_ev + neg_pos_ev\n",
    "pos_list = np.argsort(feature_pos)[::-1]\n",
    "feature_neg = val_neg_ev + neg_neg_ev\n",
    "neg_list = np.argsort(feature_neg)\n",
    "\n",
    "print('d) Top 3 features values that contribute most to the positive evidence')\n",
    "for i in range(0,3):\n",
    "    print('\\t',names[pos_list[i]], '\\t Evidence Value : ', np.sort(feature_pos)[::-1][i])\n",
    " \n",
    "print('e) Top 3 features values that contribute most to the negative evidence')\n",
    "for j in range(0,3):\n",
    "    print('\\t',names[neg_list[j]], '\\t Evidence Value : ', np.sort(feature_neg)[j])\n",
    "\n",
    "print(np.sort(feature_pos)[::-1])     \n",
    "print(np.sort(feature_neg))"
   ]
  },
  {
   "cell_type": "markdown",
   "metadata": {},
   "source": [
    "### The most negative object with respect to the probabilities."
   ]
  },
  {
   "cell_type": "code",
   "execution_count": 40,
   "metadata": {},
   "outputs": [
    {
     "name": "stdout",
     "output_type": "stream",
     "text": [
      "5\n"
     ]
    }
   ],
   "source": [
    "most_neg_obj_idx = np.argmin(y_pred_proba[:,1])\n",
    "print(most_neg_obj_idx)"
   ]
  },
  {
   "cell_type": "code",
   "execution_count": 41,
   "metadata": {},
   "outputs": [
    {
     "name": "stdout",
     "output_type": "stream",
     "text": [
      "Index of the object :  5\n",
      "Data [ 0.  0.  0.  0.  0.  0.  0.  0.]\n",
      "a) Total  positive log-evidence :  0.0\n",
      "b) Total negative log-evidence :  -3.52486421823\n",
      "c) Probability distribution [ 0.98596024  0.01403976]\n",
      "d) Top 3 features values that contribute most to the positive evidence\n",
      "\t age \t Evidence Value :  0.0\n",
      "\t pedi \t Evidence Value :  0.0\n",
      "\t bmi \t Evidence Value :  0.0\n",
      "e) Top 3 features values that contribute most to the negative evidence\n",
      "\t glucose \t Evidence Value :  -0.981807848149\n",
      "\t bmi \t Evidence Value :  -0.546948998926\n",
      "\t age \t Evidence Value :  -0.524006856628\n",
      "[ 0.  0.  0.  0.  0.  0.  0.  0.]\n",
      "[-0.98180785 -0.546949   -0.52400686 -0.46542436 -0.37163799 -0.22463881\n",
      " -0.20698264 -0.20341672]\n"
     ]
    }
   ],
   "source": [
    "print('Index of the object : ', most_neg_obj_idx)\n",
    "print('Data', X[most_neg_obj_idx])\n",
    "print('a) Total  positive log-evidence : ', pos_ev[most_neg_obj_idx])\n",
    "print('b) Total negative log-evidence : ', neg_ev[most_neg_obj_idx])\n",
    "print('c) Probability distribution', y_pred_proba[most_neg_obj_idx])\n",
    "\n",
    "\n",
    "val_pos_ev = np.multiply(X[most_neg_obj_idx, :], val_pos_X.T)\n",
    "val_neg_ev = np.multiply(X[most_neg_obj_idx, :], val_neg_X.T)\n",
    "\n",
    "neg_pos_ev = np.multiply(1-X[most_neg_obj_idx, :], neg_pos_X.T)\n",
    "neg_neg_ev = np.multiply(1-X[most_neg_obj_idx, :], neg_neg_X.T)\n",
    "\n",
    "feature_pos = val_pos_ev + neg_pos_ev\n",
    "pos_list = np.argsort(feature_pos)[::-1]\n",
    "feature_neg = val_neg_ev + neg_neg_ev\n",
    "neg_list = np.argsort(feature_neg)\n",
    "\n",
    "print('d) Top 3 features values that contribute most to the positive evidence')\n",
    "for i in range(0,3):\n",
    "    print('\\t',names[pos_list[i]], '\\t Evidence Value : ', np.sort(feature_pos)[::-1][i])\n",
    " \n",
    "print('e) Top 3 features values that contribute most to the negative evidence')\n",
    "for j in range(0,3):\n",
    "    print('\\t',names[neg_list[j]], '\\t Evidence Value : ', np.sort(feature_neg)[j])\n",
    "\n",
    "print(np.sort(feature_pos)[::-1])     \n",
    "print(np.sort(feature_neg))"
   ]
  },
  {
   "cell_type": "markdown",
   "metadata": {},
   "source": [
    "### The object that has the largest positive evidence."
   ]
  },
  {
   "cell_type": "code",
   "execution_count": 42,
   "metadata": {
    "collapsed": true
   },
   "outputs": [],
   "source": [
    "most_pos_ev_idx = np.argmax(pos_ev)"
   ]
  },
  {
   "cell_type": "code",
   "execution_count": 43,
   "metadata": {},
   "outputs": [
    {
     "name": "stdout",
     "output_type": "stream",
     "text": [
      "Index of the object :  37\n",
      "Data [ 1.  1.  1.  1.  1.  1.  1.  1.]\n",
      "a) Total  positive log-evidence :  3.54728401207\n",
      "b) Total negative log-evidence :  0.0\n",
      "c) Probability distribution [ 0.05623033  0.94376967]\n",
      "d) Top 3 features values that contribute most to the positive evidence\n",
      "\t glucose \t Evidence Value :  0.925099491406\n",
      "\t age \t Evidence Value :  0.682904288831\n",
      "\t pregnant \t Evidence Value :  0.47588167703\n",
      "e) Top 3 features values that contribute most to the negative evidence\n",
      "\t pregnant \t Evidence Value :  0.0\n",
      "\t glucose \t Evidence Value :  0.0\n",
      "\t pressure \t Evidence Value :  0.0\n",
      "[ 0.92509949  0.68290429  0.47588168  0.41084921  0.3358237   0.32827805\n",
      "  0.23359095  0.15485665]\n",
      "[ 0.  0.  0.  0.  0.  0.  0.  0.]\n"
     ]
    }
   ],
   "source": [
    "print('Index of the object : ', most_pos_ev_idx)\n",
    "print('Data', X[most_pos_ev_idx])\n",
    "print('a) Total  positive log-evidence : ', pos_ev[most_pos_ev_idx])\n",
    "print('b) Total negative log-evidence : ', neg_ev[most_pos_ev_idx])\n",
    "print('c) Probability distribution', y_pred_proba[most_pos_ev_idx])\n",
    "\n",
    "val_pos_ev = np.multiply(X[most_pos_ev_idx, :], val_pos_X.T)\n",
    "val_neg_ev = np.multiply(X[most_pos_ev_idx, :], val_neg_X.T)\n",
    "\n",
    "neg_pos_ev = np.multiply(1-X[most_pos_ev_idx, :], neg_pos_X.T)\n",
    "neg_neg_ev = np.multiply(1-X[most_pos_ev_idx, :], neg_neg_X.T)\n",
    "\n",
    "feature_pos = val_pos_ev + neg_pos_ev\n",
    "pos_list = np.argsort(feature_pos)[::-1]\n",
    "feature_neg = val_neg_ev + neg_neg_ev\n",
    "neg_list = np.argsort(feature_neg)\n",
    "\n",
    "print('d) Top 3 features values that contribute most to the positive evidence')\n",
    "for i in range(0,3):\n",
    "    print('\\t',names[pos_list[i]], '\\t Evidence Value : ', np.sort(feature_pos)[::-1][i])\n",
    " \n",
    "print('e) Top 3 features values that contribute most to the negative evidence')\n",
    "for j in range(0,3):\n",
    "    print('\\t',names[neg_list[j]], '\\t Evidence Value : ', np.sort(feature_neg)[j])\n",
    "\n",
    "print(np.sort(feature_pos)[::-1])     \n",
    "print(np.sort(feature_neg))"
   ]
  },
  {
   "cell_type": "markdown",
   "metadata": {},
   "source": [
    "### The object that has the largest negative evidence."
   ]
  },
  {
   "cell_type": "code",
   "execution_count": 44,
   "metadata": {
    "collapsed": true
   },
   "outputs": [],
   "source": [
    "most_neg_ev_idx = np.argmin(neg_ev)"
   ]
  },
  {
   "cell_type": "code",
   "execution_count": 45,
   "metadata": {},
   "outputs": [
    {
     "name": "stdout",
     "output_type": "stream",
     "text": [
      "Index of the object :  5\n",
      "Data [ 0.  0.  0.  0.  0.  0.  0.  0.]\n",
      "a) Total  positive log-evidence :  0.0\n",
      "b) Total negative log-evidence :  -3.52486421823\n",
      "c) Probability distribution [ 0.98596024  0.01403976]\n",
      "d) Top 3 features values that contribute most to the positive evidence\n",
      "\t age \t Evidence Value :  0.0\n",
      "\t pedi \t Evidence Value :  0.0\n",
      "\t bmi \t Evidence Value :  0.0\n",
      "e) Top 3 features values that contribute most to the negative evidence\n",
      "\t glucose \t Evidence Value :  -0.981807848149\n",
      "\t bmi \t Evidence Value :  -0.546948998926\n",
      "\t age \t Evidence Value :  -0.524006856628\n",
      "\n"
     ]
    }
   ],
   "source": [
    "print('Index of the object : ', most_neg_ev_idx)\n",
    "print('Data', X[most_neg_ev_idx])\n",
    "print('a) Total  positive log-evidence : ', pos_ev[most_neg_ev_idx])\n",
    "print('b) Total negative log-evidence : ', neg_ev[most_neg_ev_idx])\n",
    "print('c) Probability distribution', y_pred_proba[most_neg_ev_idx])\n",
    "\n",
    "\n",
    "val_pos_ev = np.multiply(X[most_neg_ev_idx, :], val_pos_X.T)\n",
    "val_neg_ev = np.multiply(X[most_neg_ev_idx, :], val_neg_X.T)\n",
    "\n",
    "neg_pos_ev = np.multiply(1-X[most_neg_ev_idx, :], neg_pos_X.T)\n",
    "neg_neg_ev = np.multiply(1-X[most_neg_ev_idx, :], neg_neg_X.T)\n",
    "\n",
    "feature_pos = val_pos_ev + neg_pos_ev\n",
    "pos_list = np.argsort(feature_pos)[::-1]\n",
    "feature_neg = val_neg_ev + neg_neg_ev\n",
    "neg_list = np.argsort(feature_neg)\n",
    "\n",
    "print('d) Top 3 features values that contribute most to the positive evidence')\n",
    "for i in range(0,3):\n",
    "    print('\\t',names[pos_list[i]], '\\t Evidence Value : ', np.sort(feature_pos)[::-1][i])\n",
    " \n",
    "print('e) Top 3 features values that contribute most to the negative evidence')\n",
    "for j in range(0,3):\n",
    "    print('\\t',names[neg_list[j]], '\\t Evidence Value : ', np.sort(feature_neg)[j])\n",
    "\n",
    "print()     \n"
   ]
  },
  {
   "cell_type": "markdown",
   "metadata": {},
   "source": [
    "### The most uncertain object with respect to the probabilities."
   ]
  },
  {
   "cell_type": "code",
   "execution_count": 46,
   "metadata": {
    "collapsed": true
   },
   "outputs": [],
   "source": [
    "uncertain_idx = np.argmin(np.square(y_pred_proba[:,1]-0.5))"
   ]
  },
  {
   "cell_type": "code",
   "execution_count": 47,
   "metadata": {},
   "outputs": [
    {
     "name": "stdout",
     "output_type": "stream",
     "text": [
      "Index of the object :  136\n",
      "Data [ 1.  0.  1.  0.  0.  1.  1.  1.]\n",
      "a) Total  positive log-evidence :  2.13904982267\n",
      "b) Total negative log-evidence :  -1.39220720762\n",
      "c) Probability distribution [ 0.49500407  0.50499593]\n",
      "d) Top 3 features values that contribute most to the positive evidence\n",
      "\t age \t Evidence Value :  0.682904288831\n",
      "\t pregnant \t Evidence Value :  0.47588167703\n",
      "\t bmi \t Evidence Value :  0.410849206759\n",
      "e) Top 3 features values that contribute most to the negative evidence\n",
      "\t glucose \t Evidence Value :  -0.981807848149\n",
      "\t skin \t Evidence Value :  -0.206982636574\n",
      "\t insltest \t Evidence Value :  -0.203416722894\n"
     ]
    }
   ],
   "source": [
    "print('Index of the object : ', uncertain_idx)\n",
    "print('Data', X[uncertain_idx, :])\n",
    "print('a) Total  positive log-evidence : ', pos_ev[uncertain_idx])\n",
    "print('b) Total negative log-evidence : ', neg_ev[uncertain_idx])\n",
    "print('c) Probability distribution', y_pred_proba[uncertain_idx])\n",
    "\n",
    "\n",
    "val_pos_ev = np.multiply(X[uncertain_idx, :], val_pos_X.T)\n",
    "val_neg_ev = np.multiply(X[uncertain_idx, :], val_neg_X.T)\n",
    "\n",
    "neg_pos_ev = np.multiply(1-X[uncertain_idx, :], neg_pos_X.T)\n",
    "neg_neg_ev = np.multiply(1-X[uncertain_idx, :], neg_neg_X.T)\n",
    "\n",
    "feature_pos = val_pos_ev + neg_pos_ev\n",
    "pos_list = np.argsort(feature_pos)[::-1]\n",
    "feature_neg = val_neg_ev + neg_neg_ev\n",
    "neg_list = np.argsort(feature_neg)\n",
    "\n",
    "print('d) Top 3 features values that contribute most to the positive evidence')\n",
    "for i in range(0,3):\n",
    "    print('\\t',names[pos_list[i]], '\\t Evidence Value : ', np.sort(feature_pos)[::-1][i])\n",
    "    \n",
    "print('e) Top 3 features values that contribute most to the negative evidence')\n",
    "for j in range(0,3):\n",
    "    print('\\t',names[neg_list[j]], '\\t Evidence Value : ', np.sort(feature_neg)[j])"
   ]
  }
 ],
 "metadata": {
  "kernelspec": {
   "display_name": "Python 3",
   "language": "python",
   "name": "python3"
  },
  "language_info": {
   "codemirror_mode": {
    "name": "ipython",
    "version": 3
   },
   "file_extension": ".py",
   "mimetype": "text/x-python",
   "name": "python",
   "nbconvert_exporter": "python",
   "pygments_lexer": "ipython3",
   "version": "3.6.2"
  }
 },
 "nbformat": 4,
 "nbformat_minor": 2
}
